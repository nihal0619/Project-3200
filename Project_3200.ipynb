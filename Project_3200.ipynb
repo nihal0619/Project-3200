{
  "nbformat": 4,
  "nbformat_minor": 0,
  "metadata": {
    "colab": {
      "provenance": [],
      "authorship_tag": "ABX9TyNqr4zzkHvPo5iNj9WQsCD0",
      "include_colab_link": true
    },
    "kernelspec": {
      "name": "python3",
      "display_name": "Python 3"
    },
    "language_info": {
      "name": "python"
    }
  },
  "cells": [
    {
      "cell_type": "markdown",
      "metadata": {
        "id": "view-in-github",
        "colab_type": "text"
      },
      "source": [
        "<a href=\"https://colab.research.google.com/github/nihal0619/Project-3200/blob/main/Project_3200.ipynb\" target=\"_parent\"><img src=\"https://colab.research.google.com/assets/colab-badge.svg\" alt=\"Open In Colab\"/></a>"
      ]
    },
    {
      "cell_type": "markdown",
      "source": [
        "\n",
        "\n",
        "Data Collection\n",
        "\n"
      ],
      "metadata": {
        "id": "qUCEI9hkI7Xv"
      }
    },
    {
      "cell_type": "code",
      "execution_count": 1,
      "metadata": {
        "id": "IdQG5ZNh_s5K"
      },
      "outputs": [],
      "source": [
        "!wget -q https://git.io/J0fjL -O IAM_Words.zip\n",
        "!unzip -qq IAM_Words.zip\n",
        "!mkdir data\n",
        "!mkdir data/words\n",
        "!tar -xf IAM_Words/words.tgz -C data/words\n",
        "!mv IAM_Words/words.txt data\n"
      ]
    },
    {
      "cell_type": "code",
      "source": [
        "!head -30 data/words.txt"
      ],
      "metadata": {
        "colab": {
          "base_uri": "https://localhost:8080/"
        },
        "id": "W_QEfzYZBRpK",
        "outputId": "16dfa805-0c57-4461-bee4-fd15b28be0e8"
      },
      "execution_count": 2,
      "outputs": [
        {
          "output_type": "stream",
          "name": "stdout",
          "text": [
            "#--- words.txt ---------------------------------------------------------------#\n",
            "#\n",
            "# iam database word information\n",
            "#\n",
            "# format: a01-000u-00-00 ok 154 1 408 768 27 51 AT A\n",
            "#\n",
            "#     a01-000u-00-00  -> word id for line 00 in form a01-000u\n",
            "#     ok              -> result of word segmentation\n",
            "#                            ok: word was correctly\n",
            "#                            er: segmentation of word can be bad\n",
            "#\n",
            "#     154             -> graylevel to binarize the line containing this word\n",
            "#     1               -> number of components for this word\n",
            "#     408 768 27 51   -> bounding box around this word in x,y,w,h format\n",
            "#     AT              -> the grammatical tag for this word, see the\n",
            "#                        file tagset.txt for an explanation\n",
            "#     A               -> the transcription for this word\n",
            "#\n",
            "a01-000u-00-00 ok 154 408 768 27 51 AT A\n",
            "a01-000u-00-01 ok 154 507 766 213 48 NN MOVE\n",
            "a01-000u-00-02 ok 154 796 764 70 50 TO to\n",
            "a01-000u-00-03 ok 154 919 757 166 78 VB stop\n",
            "a01-000u-00-04 ok 154 1185 754 126 61 NPT Mr.\n",
            "a01-000u-00-05 ok 154 1438 746 382 73 NP Gaitskell\n",
            "a01-000u-00-06 ok 154 1896 757 173 72 IN from\n",
            "a01-000u-01-00 ok 156 395 932 441 100 VBG nominating\n",
            "a01-000u-01-01 ok 156 901 958 147 79 DTI any\n",
            "a01-000u-01-02 ok 156 1112 958 208 42 AP more\n",
            "a01-000u-01-03 ok 156 1400 937 294 59 NN Labour\n",
            "a01-000u-01-04 ok 156 1779 932 174 63 NN life\n"
          ]
        }
      ]
    },
    {
      "cell_type": "markdown",
      "source": [
        "Import Basic Libraries\n"
      ],
      "metadata": {
        "id": "KZQ0UloGODTH"
      }
    },
    {
      "cell_type": "code",
      "source": [
        "from tensorflow.keras.layers.experimental.preprocessing import StringLookup\n",
        "from tensorflow import keras\n",
        "\n",
        "import matplotlib.pyplot as plt\n",
        "import tensorflow as tf\n",
        "import numpy as np\n",
        "import os\n",
        "\n",
        "np.random.seed(42)\n",
        "tf.random.set_seed(42)"
      ],
      "metadata": {
        "id": "I5xbWc14B83C"
      },
      "execution_count": 3,
      "outputs": []
    },
    {
      "cell_type": "markdown",
      "source": [
        "Dataset Splitting\n"
      ],
      "metadata": {
        "id": "tSX7HrvfRmx2"
      }
    },
    {
      "cell_type": "code",
      "source": [
        "base_path =\"data\"\n",
        "words_list = []\n",
        "\n",
        "words = open(f\"{base_path}/words.txt\", \"r\").readlines()\n",
        "for line in words:\n",
        "     if line[0] == \"#\" :\n",
        "       continue\n",
        "\n",
        "     if line.split(\" \")[1] != \"err\" :\n",
        "       words_list.append(line)\n",
        "\n",
        "len (words_list)\n",
        "np.random.shuffle(words_list)      "
      ],
      "metadata": {
        "id": "ZFWg0JGuCz4a"
      },
      "execution_count": 4,
      "outputs": []
    },
    {
      "cell_type": "code",
      "source": [
        "split_idx = int(0.9 * len(words_list))\n",
        "train_samples = words_list[:split_idx]\n",
        "test_samples = words_list [split_idx:]\n",
        "\n",
        "val_split_idx = int (0.5 *len(test_samples))\n",
        "validation_samples =test_samples [:val_split_idx]\n",
        "test_samples = test_samples[val_split_idx:]\n",
        "\n",
        "assert len(words_list) == len(train_samples) + len(validation_samples) + len(test_samples)\n",
        "\n",
        "print(f\"total training samples: {len(train_samples)}\")\n",
        "print(f\"total validation samples : {len(validation_samples)}\")\n",
        "print(f\"total test samples: {len(test_samples)}\")\n"
      ],
      "metadata": {
        "colab": {
          "base_uri": "https://localhost:8080/"
        },
        "id": "D7WGLvoeEQn_",
        "outputId": "c0996097-4a31-4ba5-8bcc-f82771eb39fc"
      },
      "execution_count": 5,
      "outputs": [
        {
          "output_type": "stream",
          "name": "stdout",
          "text": [
            "total training samples: 86810\n",
            "total validation samples : 4823\n",
            "total test samples: 4823\n"
          ]
        }
      ]
    },
    {
      "cell_type": "markdown",
      "source": [
        "Data Input Pipeline\n"
      ],
      "metadata": {
        "id": "x4Oqm6CkUd5W"
      }
    },
    {
      "cell_type": "code",
      "source": [
        "base_image_path = os.path.join(base_path, \"words\")\n",
        "\n",
        "def get_image_paths_and_labels(samples):\n",
        "    paths = []\n",
        "    corrected_samples = []\n",
        "    for (i, file_line) in enumerate(samples):\n",
        "        line_split = file_line.strip()\n",
        "        line_split = line_split.split(\" \") \n",
        "        #each line split will have the following format\n",
        "        #part1/part1.part2/part1.part2.part3.png\n",
        "        image_name = line_split[0]\n",
        "        partI = image_name.split(\"-\")[0]\n",
        "        partII = image_name.split(\"-\")[1]\n",
        "        img_path = os.path.join (\n",
        "            base_image_path, partI, partI + \"-\" + partII, image_name + \".png\"\n",
        "        )\n",
        "        if os.path.getsize( img_path):\n",
        "          paths.append(img_path)\n",
        "          corrected_samples.append(file_line.split(\"\\n\")[0])\n",
        "     \n",
        "    return paths, corrected_samples    \n",
        "\n",
        "\n",
        "train_img_paths, train_labels = get_image_paths_and_labels(train_samples)\n",
        "validation_img_paths, validation_labels = get_image_paths_and_labels(validation_samples)     \n",
        "test_img_paths, test_labels = get_image_paths_and_labels(test_samples)\n",
        " \n",
        "      "
      ],
      "metadata": {
        "id": "X_vyFh354MCD"
      },
      "execution_count": 6,
      "outputs": []
    },
    {
      "cell_type": "code",
      "source": [
        "train_img_paths[0:10]"
      ],
      "metadata": {
        "colab": {
          "base_uri": "https://localhost:8080/"
        },
        "id": "ZIVvnNWpVS5m",
        "outputId": "72b6f768-640e-481a-ed4c-23457994a9b8"
      },
      "execution_count": 7,
      "outputs": [
        {
          "output_type": "execute_result",
          "data": {
            "text/plain": [
              "['data/words/e04/e04-030/e04-030-04-08.png',\n",
              " 'data/words/k02/k02-102/k02-102-05-03.png',\n",
              " 'data/words/a01/a01-082u/a01-082u-01-04.png',\n",
              " 'data/words/m01/m01-000/m01-000-07-00.png',\n",
              " 'data/words/g01/g01-031/g01-031-07-06.png',\n",
              " 'data/words/f07/f07-081b/f07-081b-01-06.png',\n",
              " 'data/words/n03/n03-082/n03-082-04-03.png',\n",
              " 'data/words/g06/g06-018c/g06-018c-04-05.png',\n",
              " 'data/words/g06/g06-011j/g06-011j-06-06.png',\n",
              " 'data/words/f04/f04-024/f04-024-01-06.png']"
            ]
          },
          "metadata": {},
          "execution_count": 7
        }
      ]
    },
    {
      "cell_type": "code",
      "source": [
        "train_labels[0:10]"
      ],
      "metadata": {
        "colab": {
          "base_uri": "https://localhost:8080/"
        },
        "id": "I5V3AwIMVkTm",
        "outputId": "467808de-53c0-452c-dcf4-0af017ad17d0"
      },
      "execution_count": 8,
      "outputs": [
        {
          "output_type": "execute_result",
          "data": {
            "text/plain": [
              "['e04-030-04-08 ok 170 1489 1499 120 39 JJ sure',\n",
              " 'k02-102-05-03 ok 182 836 1623 69 52 PP3A he',\n",
              " 'a01-082u-01-04 ok 172 1582 1043 234 88 IN during',\n",
              " 'm01-000-07-00 ok 196 339 1998 75 107 INO of',\n",
              " 'g01-031-07-06 ok 152 1912 2038 167 59 NN booty',\n",
              " 'f07-081b-01-06 ok 168 1366 924 350 88 NN gastronomy',\n",
              " 'n03-082-04-03 ok 165 992 1414 118 135 NN boy',\n",
              " 'g06-018c-04-05 ok 182 1298 1438 96 58 ATI The',\n",
              " 'g06-011j-06-06 ok 182 1222 1785 146 95 CC and',\n",
              " 'f04-024-01-06 ok 183 1104 981 60 70 IN in']"
            ]
          },
          "metadata": {},
          "execution_count": 8
        }
      ]
    },
    {
      "cell_type": "code",
      "source": [
        "#Determne the max length and the size of the vocabulary in the trainning data.\n",
        "train_labels_cleaned = []\n",
        "characters = set ()\n",
        "max_len = 0\n",
        "\n",
        "for label in train_labels:\n",
        "  label = label.split(\" \")[-1].strip()\n",
        "  for char in label:\n",
        "    characters.add(char)\n",
        "\n",
        "  max_len = max(max_len, len(label))\n",
        "  train_labels_cleaned.append(label)\n",
        "\n",
        "print(\"max length \" , max_len)\n",
        "print(\"Vocab size \" , len(characters))\n",
        "\n",
        "#check some label samples\n",
        "train_labels_cleaned[0:10]"
      ],
      "metadata": {
        "colab": {
          "base_uri": "https://localhost:8080/"
        },
        "id": "d1Vltz32tZsN",
        "outputId": "1b438343-03d5-406d-da49-5c13efb80258"
      },
      "execution_count": 9,
      "outputs": [
        {
          "output_type": "stream",
          "name": "stdout",
          "text": [
            "max length  21\n",
            "Vocab size  78\n"
          ]
        },
        {
          "output_type": "execute_result",
          "data": {
            "text/plain": [
              "['sure',\n",
              " 'he',\n",
              " 'during',\n",
              " 'of',\n",
              " 'booty',\n",
              " 'gastronomy',\n",
              " 'boy',\n",
              " 'The',\n",
              " 'and',\n",
              " 'in']"
            ]
          },
          "metadata": {},
          "execution_count": 9
        }
      ]
    },
    {
      "cell_type": "markdown",
      "source": [
        "Clean the validation and test data sets"
      ],
      "metadata": {
        "id": "m6ns7BqHWzrI"
      }
    },
    {
      "cell_type": "code",
      "source": [
        "\n",
        "def clean_lables(labels):\n",
        "    cleaned_labels = []\n",
        "    for label in labels:\n",
        "      label = label.split(\" \")[-1].strip()\n",
        "      cleaned_labels.append(label)\n",
        "    return cleaned_labels\n",
        "\n",
        "\n",
        "validation_labels_cleaned = clean_lables(validation_labels)\n",
        "test_labels_cleaned = clean_lables(test_labels)"
      ],
      "metadata": {
        "id": "x2O3brUmtdPk"
      },
      "execution_count": 10,
      "outputs": []
    },
    {
      "cell_type": "markdown",
      "source": [
        "Building Character Vocabulary\n"
      ],
      "metadata": {
        "id": "HvWgoMQWXJqO"
      }
    },
    {
      "cell_type": "code",
      "source": [
        "\n",
        "AUTOTUNE = tf.data.AUTOTUNE\n",
        "\n",
        "# map characters into integers.\n",
        "char_to_num = StringLookup(vocabulary=list(characters), mask_token=None)\n",
        "\n",
        "# map integers back to original characters \n",
        "num_to_char = StringLookup(\n",
        "    vocabulary=char_to_num.get_vocabulary(), mask_token=None, invert=True\n",
        ")"
      ],
      "metadata": {
        "id": "pjqWIuvDtf6V"
      },
      "execution_count": 11,
      "outputs": []
    },
    {
      "cell_type": "markdown",
      "source": [
        "Resizing Image without Distortion\n"
      ],
      "metadata": {
        "id": "R37AMQvuYH0n"
      }
    },
    {
      "cell_type": "code",
      "source": [
        "\n",
        "def distortion_free_resize(image, img_size):\n",
        "  w, h = img_size\n",
        "  image = tf.image.resize(image, size=(h, w), preserve_aspect_ratio=True)\n",
        "\n",
        "  # add padding\n",
        "  pad_height = h - tf.shape(image)[0]\n",
        "  pad_width = w - tf.shape(image)[1]\n",
        "  # same amount of padding on both sides\n",
        "  if pad_height % 2 != 0:\n",
        "      height = pad_height // 2\n",
        "      pad_height_top = height + 1\n",
        "      pad_height_bottom = height\n",
        "  else:\n",
        "      pad_height_top = pad_height_bottom = pad_height // 2\n",
        "  \n",
        "   \n",
        "  if pad_width % 2 != 0:\n",
        "      width = pad_width // 2\n",
        "      pad_width_left = width + 1\n",
        "      pad_width_right = width\n",
        "  else:\n",
        "      pad_width_left = pad_width_right = pad_width // 2\n",
        "  \n",
        "  image = tf.pad(\n",
        "      image,\n",
        "      paddings=[\n",
        "         [pad_height_top, pad_height_bottom],\n",
        "         [pad_width_left, pad_width_right], \n",
        "         [0, 0],\n",
        "      ],\n",
        "  )\n",
        "  \n",
        "  image = tf.transpose(image, perm =[1, 0, 2])\n",
        "  image = tf.image.flip_left_right(image)\n",
        "  return image \n",
        "\n",
        "  "
      ],
      "metadata": {
        "id": "r5gehHxluDcN"
      },
      "execution_count": 12,
      "outputs": []
    },
    {
      "cell_type": "markdown",
      "source": [
        "Put the utilities together"
      ],
      "metadata": {
        "id": "gcUthdXkt9O0"
      }
    },
    {
      "cell_type": "code",
      "source": [
        "batch_size = 64\n",
        "padding_token = 99\n",
        "image_width = 128\n",
        "image_height = 32\n",
        "\n",
        "def preprocess_image(image_path, img_size=(image_width, image_height)):\n",
        "    image = tf.io.read_file(image_path)\n",
        "    image = tf.image.decode_png(image, 1)\n",
        "    image = distortion_free_resize(image, img_size)\n",
        "    image = tf.cast(image, tf.float32) / 255.0\n",
        "    return image\n",
        "\n",
        "def vectorize_label(label):\n",
        "    label = char_to_num(tf.strings.unicode_split(label, input_encoding=\"UTF-8\"))\n",
        "    length = tf.shape(label)[0]\n",
        "    pad_amount = max_len - length\n",
        "    label = tf.pad(label, paddings=[[0, pad_amount]], constant_values=padding_token)\n",
        "    return label\n",
        "\n",
        "def process_images_labels(image_path, label):\n",
        "    image = preprocess_image(image_path)\n",
        "    label = vectorize_label(label)\n",
        "    return {\"image\" : image, \"label\" : label}\n",
        "\n",
        "def prepare_dataset(image_paths, labels):\n",
        "    dataset = tf.data.Dataset.from_tensor_slices((image_paths, labels)).map(\n",
        "        process_images_labels, num_parallel_calls=(AUTOTUNE)\n",
        "    )    \n",
        "    return dataset.batch(batch_size).cache().prefetch(AUTOTUNE)"
      ],
      "metadata": {
        "id": "ZOke8Ix6uB6M"
      },
      "execution_count": 13,
      "outputs": []
    },
    {
      "cell_type": "markdown",
      "source": [
        "Prepare tf.data.Dataset objects"
      ],
      "metadata": {
        "id": "n-Xtu24CxGyN"
      }
    },
    {
      "cell_type": "code",
      "source": [
        "train_ds = prepare_dataset(train_img_paths, train_labels_cleaned)\n",
        "validation_ds = prepare_dataset(validation_img_paths, validation_labels_cleaned)\n",
        "test_ds = prepare_dataset(test_img_paths, test_labels_cleaned)"
      ],
      "metadata": {
        "id": "wBiFy2-QxpqV"
      },
      "execution_count": 14,
      "outputs": []
    },
    {
      "cell_type": "markdown",
      "source": [
        "Visualize a few samples\n"
      ],
      "metadata": {
        "id": "sa6rlgA11dHr"
      }
    },
    {
      "cell_type": "code",
      "source": [
        "for data in train_ds.take(1):\n",
        "    images, labels = data[\"image\"], data[\"label\"]\n",
        "\n",
        "    _, ax = plt.subplots(4,4,figsize=(15,8))\n",
        "\n",
        "    for i in range(16):\n",
        "      img = images[i]\n",
        "      img = tf.image.flip_left_right(img)\n",
        "      img = tf.transpose(img, perm=[1,0,2])\n",
        "      img = (img * 255.0).numpy().clip(0, 255).astype(np.uint8)\n",
        "      img = img [: , :, 0]\n",
        "\n",
        "      #gather indices where label!= padding_token\n",
        "      label = labels[i]\n",
        "      indices = tf.gather(label, tf.where(tf.math.not_equal(label, padding_token)))\n",
        "      #convert to string\n",
        "      label = tf.strings.reduce_join(num_to_char(indices))\n",
        "      label = label.numpy().decode(\"utf-8\")\n",
        "\n",
        "      ax[i // 4, i % 4]. imshow(img, cmap=\"gray\")\n",
        "      ax[i // 4, i % 4].set_title(label)\n",
        "      ax[i // 4, i % 4].axis(\"off\")\n",
        "\n",
        "\n",
        "\n",
        "plt.show()\n",
        "\n",
        "      \n",
        "\n",
        "      \n",
        "  \n"
      ],
      "metadata": {
        "colab": {
          "base_uri": "https://localhost:8080/",
          "height": 349
        },
        "id": "dAmfWill1gzN",
        "outputId": "80263ae5-45fc-4fde-a85f-b1cbe0ae0644"
      },
      "execution_count": 15,
      "outputs": [
        {
          "output_type": "display_data",
          "data": {
            "text/plain": [
              "<Figure size 1080x576 with 16 Axes>"
            ],
            "image/png": "[encoded data removed]"
          },
          "metadata": {
            "needs_background": "light"
          }
        }
      ]
    },
    {
      "cell_type": "markdown",
      "source": [
        "Model. \n",
        "\n",
        "This will use the CTC loss as an endpoint layer."
      ],
      "metadata": {
        "id": "mn62dfFL-HFj"
      }
    },
    {
      "cell_type": "code",
      "source": [
        "class CTCLayer(keras.layers.Layer):\n",
        "    def __init__(self, name=None):\n",
        "       super().__init__(name=name)\n",
        "       self.loss_fn = keras.backend.ctc_batch_cost\n",
        "\n",
        "    def call(self, y_true, y_pred):\n",
        "        batch_len = tf.cast(tf.shape(y_true)[0], dtype=\"int64\")\n",
        "        input_length = tf.cast(tf.shape(y_pred)[1], dtype=\"int64\")\n",
        "        label_length = tf.cast(tf.shape(y_true)[1], dtype=\"int64\")\n",
        "\n",
        "        input_length = input_length * tf.ones(shape=(batch_len, 1), dtype=\"int64\")\n",
        "        label_length = label_length * tf.ones(shape=(batch_len, 1), dtype=\"int64\")\n",
        "        loss = self.loss_fn(y_true, y_pred, input_length, label_length)\n",
        "        self.add_loss(loss)\n",
        "\n",
        "        return y_pred\n",
        "\n",
        "def build_model():\n",
        "    # Inputs to the model\n",
        "    input_img = keras.Input (shape=(image_width, image_height, 1), name=\"image\")\n",
        "    labels = keras.layers. Input (name=\"label\", shape=(None,))\n",
        "    # First conv block.\n",
        "    x = keras.layers.Conv2D(\n",
        "        32,\n",
        "        (3, 3),\n",
        "        activation=\"relu\",\n",
        "        kernel_initializer=\"he_normal\",\n",
        "        padding=\"same\",\n",
        "        name=\"Conv1\",\n",
        "    ) (input_img)\n",
        "    x = keras.layers.MaxPooling2D((2, 2), name=\"pooll\") (x)\n",
        "    \n",
        "    \n",
        "    # Second conv block.\n",
        "    x = keras.layers. Conv2D(\n",
        "        64,\n",
        "        (3, 3),\n",
        "        activation=\"relu\",\n",
        "        kernel_initializer=\"he_normal\",\n",
        "        padding=\"same\",\n",
        "        name=\"Conv2\",\n",
        "    )(x)\n",
        "    x = keras.layers.MaxPooling2D((2, 2), name=\"pool2\") (x)\n",
        "\n",
        "    # We have used two max pool with pool size and strides 2.\n",
        "    # Hence, downsampled feature maps are 4x smaller. The number of\n",
        "    #filters in the last layer is 64. Reshape accordingly before\n",
        "    #passing the output to the RNN part of the model. I\n",
        "    new_shape=((image_width // 4), (image_height // 4) * 64)\n",
        "    x = keras.layers. Reshape (target_shape=new_shape, name=\"reshape\") (x)\n",
        "    x = keras.layers. Dense (64, activation=\"relu\", name=\"densel\") (x)\n",
        "    x = keras.layers.Dropout(0.2) (x)\n",
        "\n",
        "    #RNNS.\n",
        "    x = keras.layers. Bidirectional(\n",
        "        keras.layers.LSTM (128, return_sequences=True, dropout=8.25)\n",
        "    )(x)\n",
        "    x = keras.layers. Bidirectional(\n",
        "        keras.layers.LSTM (64, return_sequences=True, dropout=0.25)\n",
        "    )(x)\n",
        "\n",
        "    # +2 is to account for the two special tokens introduced by the CTC loss.\n",
        "    # The recommendation comes here: https://git.io/J0eXP.\n",
        "    x = keras.layers.Dense(\n",
        "        len(char_to_num.get_vocabulary()) + 2, activation=\"softmax\", name=\"dense2\"\n",
        "    )(x)\n",
        "\n",
        "    # Add CTC layer for calculating CTC loss at each step.\n",
        "    output = CTCLayer (name=\"ctc_loss\") (labels, x)\n",
        "\n",
        "    # Define the model.\n",
        "    model = keras.models.Model(\n",
        "    inputs=[input_img, labels], outputs=output, name=\"handwriting_recognizer\"\n",
        "    )\n",
        "\n",
        "    # Optimizer.\n",
        "    opt = keras.optimizers.Adam()\n",
        "    \n",
        "    # Compile the model and return.\n",
        "    model.compile (optimizer=opt)\n",
        "    return model \n",
        "\n",
        "# Get the model.\n",
        "model= build_model()\n",
        "model.summary()\n"
      ],
      "metadata": {
        "colab": {
          "base_uri": "https://localhost:8080/"
        },
        "id": "TuFA2wLx-FDe",
        "outputId": "1026a43b-892b-401a-a5c9-bc1834ef5310"
      },
      "execution_count": 16,
      "outputs": [
        {
          "output_type": "stream",
          "name": "stdout",
          "text": [
            "Model: \"handwriting_recognizer\"\n",
            "__________________________________________________________________________________________________\n",
            " Layer (type)                   Output Shape         Param #     Connected to                     \n",
            "==================================================================================================\n",
            " image (InputLayer)             [(None, 128, 32, 1)  0           []                               \n",
            "                                ]                                                                 \n",
            "                                                                                                  \n",
            " Conv1 (Conv2D)                 (None, 128, 32, 32)  320         ['image[0][0]']                  \n",
            "                                                                                                  \n",
            " pooll (MaxPooling2D)           (None, 64, 16, 32)   0           ['Conv1[0][0]']                  \n",
            "                                                                                                  \n",
            " Conv2 (Conv2D)                 (None, 64, 16, 64)   18496       ['pooll[0][0]']                  \n",
            "                                                                                                  \n",
            " pool2 (MaxPooling2D)           (None, 32, 8, 64)    0           ['Conv2[0][0]']                  \n",
            "                                                                                                  \n",
            " reshape (Reshape)              (None, 32, 512)      0           ['pool2[0][0]']                  \n",
            "                                                                                                  \n",
            " densel (Dense)                 (None, 32, 64)       32832       ['reshape[0][0]']                \n",
            "                                                                                                  \n",
            " dropout (Dropout)              (None, 32, 64)       0           ['densel[0][0]']                 \n",
            "                                                                                                  \n",
            " bidirectional (Bidirectional)  (None, 32, 256)      197632      ['dropout[0][0]']                \n",
            "                                                                                                  \n",
            " bidirectional_1 (Bidirectional  (None, 32, 128)     164352      ['bidirectional[0][0]']          \n",
            " )                                                                                                \n",
            "                                                                                                  \n",
            " label (InputLayer)             [(None, None)]       0           []                               \n",
            "                                                                                                  \n",
            " dense2 (Dense)                 (None, 32, 81)       10449       ['bidirectional_1[0][0]']        \n",
            "                                                                                                  \n",
            " ctc_loss (CTCLayer)            (None, 32, 81)       0           ['label[0][0]',                  \n",
            "                                                                  'dense2[0][0]']                 \n",
            "                                                                                                  \n",
            "==================================================================================================\n",
            "Total params: 424,081\n",
            "Trainable params: 424,081\n",
            "Non-trainable params: 0\n",
            "__________________________________________________________________________________________________\n"
          ]
        }
      ]
    },
    {
      "cell_type": "markdown",
      "source": [
        "**Evaluation metric**\n",
        "Edit Distance is the most widely used metric for evaluating OCR models. In this section, we will implement it and use it as a callback to monitor\n",
        "our model.\n",
        "We first segregate the validation images and their labels for convenience."
      ],
      "metadata": {
        "id": "SDLh7cP9duzt"
      }
    },
    {
      "cell_type": "code",
      "source": [
        "validation_images = []\n",
        "validation_labels = []\n",
        "for batch in validation_ds:\n",
        "    validation_images.append(batch [\"image\"])\n",
        "    validation_labels.append(batch[\"label\"])"
      ],
      "metadata": {
        "id": "zdECjryUdUH9"
      },
      "execution_count": 17,
      "outputs": []
    },
    {
      "cell_type": "markdown",
      "source": [
        "Now, we create a callback to monitor the edit distances."
      ],
      "metadata": {
        "id": "sW2s45xod-et"
      }
    },
    {
      "cell_type": "code",
      "source": [
        "def calculate_edit_distance (labels, predictions):\n",
        "    # Get a single batch and convert its labels to sparse tensors.\n",
        "    saprse_labels = tf.cast(tf.sparse.from_dense(labels), dtype=tf.int64)\n",
        "    # Make predictions and convert them to sparse tensors.\n",
        "    input_len = np.ones (predictions.shape [0]) * predictions.shape [1]\n",
        "    predictions_decoded = keras.backend.ctc_decode(\n",
        "        predictions, input_length=input_len, greedy=True\n",
        "    )[0][0][:, :max_len]\n",
        "    sparse_predictions = tf.cast(\n",
        "        tf.sparse.from_dense (predictions_decoded), dtype=tf.int64\n",
        "    )\n",
        "    # Compute individual edit distances and average them out.\n",
        "    edit_distances = tf.edit_distance(\n",
        "        sparse_predictions, saprse_labels, normalize=False\n",
        "    )\n",
        "    return tf.reduce_mean (edit_distances)\n",
        "\n",
        "class EditDistanceCallback(keras.callbacks.Callback):\n",
        "    def __init__(self, pred_model):\n",
        "        super().__init__()\n",
        "        self.prediction_model= pred_model\n",
        "\n",
        "def  on_epoch_end(self, epoch, logs=None):\n",
        "     edit_distances = []\n",
        "     for i in range (len(validation_images)):\n",
        "         labels = validation_labels[i]\n",
        "         predictions = self.prediction_model.predict(validation_images[i])\n",
        "         edit_distances.append(calculate_edit_distance (labels, predictions).numpy())\n",
        "     print(\n",
        "         f\"Mean edit distance for epoch {epoch + 1}: {np.mean(edit_distances):.4f}\"\n",
        "     )\n",
        "\n"
      ],
      "metadata": {
        "id": "ysWXSfsDdzEI"
      },
      "execution_count": 36,
      "outputs": []
    },
    {
      "cell_type": "markdown",
      "source": [
        "Training\n",
        "Now we are ready to kick off model training."
      ],
      "metadata": {
        "id": "TZczjvvpnNPv"
      }
    },
    {
      "cell_type": "code",
      "source": [
        "epochs = 10       # To get good results this should be at least 50.\n",
        "\n",
        "\n",
        "model = build_model()\n",
        "prediction_model= keras.models.Model(\n",
        "    model.get_layer (name=\"image\").input, model.get_layer (name=\"dense2\").output\n",
        ")\n",
        "edit_distance_callback = EditDistanceCallback(prediction_model)\n",
        "\n",
        "# Train the model.\n",
        "history = model.fit(\n",
        "    train_ds,\n",
        "    validation_data=validation_ds,\n",
        "    epochs = epochs,\n",
        "    callbacks=[edit_distance_callback],\n",
        ")    "
      ],
      "metadata": {
        "colab": {
          "base_uri": "https://localhost:8080/",
          "height": 923
        },
        "id": "kxRsFnhZnQ4P",
        "outputId": "f968ba13-0637-45f6-e9bd-d883326f52b9"
      },
      "execution_count": 40,
      "outputs": [
        {
          "output_type": "stream",
          "name": "stdout",
          "text": [
            "Epoch 1/10\n"
          ]
        },
        {
          "output_type": "error",
          "ename": "ValueError",
          "evalue": "ignored",
          "traceback": [
            "\u001b[0;31m---------------------------------------------------------------------------\u001b[0m",
            "\u001b[0;31mValueError\u001b[0m                                Traceback (most recent call last)",
            "\u001b[0;32m<ipython-input-40-00c1c2aea4d7>\u001b[0m in \u001b[0;36m<module>\u001b[0;34m\u001b[0m\n\u001b[1;32m      9\u001b[0m \u001b[0;34m\u001b[0m\u001b[0m\n\u001b[1;32m     10\u001b[0m \u001b[0;31m# Train the model.\u001b[0m\u001b[0;34m\u001b[0m\u001b[0;34m\u001b[0m\u001b[0m\n\u001b[0;32m---> 11\u001b[0;31m history = model.fit(\n\u001b[0m\u001b[1;32m     12\u001b[0m     \u001b[0mtrain_ds\u001b[0m\u001b[0;34m,\u001b[0m\u001b[0;34m\u001b[0m\u001b[0;34m\u001b[0m\u001b[0m\n\u001b[1;32m     13\u001b[0m     \u001b[0mvalidation_data\u001b[0m\u001b[0;34m=\u001b[0m\u001b[0mvalidation_ds\u001b[0m\u001b[0;34m,\u001b[0m\u001b[0;34m\u001b[0m\u001b[0;34m\u001b[0m\u001b[0m\n",
            "\u001b[0;32m/usr/local/lib/python3.9/dist-packages/keras/utils/traceback_utils.py\u001b[0m in \u001b[0;36merror_handler\u001b[0;34m(*args, **kwargs)\u001b[0m\n\u001b[1;32m     68\u001b[0m             \u001b[0;31m# To get the full stack trace, call:\u001b[0m\u001b[0;34m\u001b[0m\u001b[0;34m\u001b[0m\u001b[0m\n\u001b[1;32m     69\u001b[0m             \u001b[0;31m# `tf.debugging.disable_traceback_filtering()`\u001b[0m\u001b[0;34m\u001b[0m\u001b[0;34m\u001b[0m\u001b[0m\n\u001b[0;32m---> 70\u001b[0;31m             \u001b[0;32mraise\u001b[0m \u001b[0me\u001b[0m\u001b[0;34m.\u001b[0m\u001b[0mwith_traceback\u001b[0m\u001b[0;34m(\u001b[0m\u001b[0mfiltered_tb\u001b[0m\u001b[0;34m)\u001b[0m \u001b[0;32mfrom\u001b[0m \u001b[0;32mNone\u001b[0m\u001b[0;34m\u001b[0m\u001b[0;34m\u001b[0m\u001b[0m\n\u001b[0m\u001b[1;32m     71\u001b[0m         \u001b[0;32mfinally\u001b[0m\u001b[0;34m:\u001b[0m\u001b[0;34m\u001b[0m\u001b[0;34m\u001b[0m\u001b[0m\n\u001b[1;32m     72\u001b[0m             \u001b[0;32mdel\u001b[0m \u001b[0mfiltered_tb\u001b[0m\u001b[0;34m\u001b[0m\u001b[0;34m\u001b[0m\u001b[0m\n",
            "\u001b[0;32m/usr/local/lib/python3.9/dist-packages/keras/engine/training.py\u001b[0m in \u001b[0;36mtf__train_function\u001b[0;34m(iterator)\u001b[0m\n\u001b[1;32m     13\u001b[0m                 \u001b[0;32mtry\u001b[0m\u001b[0;34m:\u001b[0m\u001b[0;34m\u001b[0m\u001b[0;34m\u001b[0m\u001b[0m\n\u001b[1;32m     14\u001b[0m                     \u001b[0mdo_return\u001b[0m \u001b[0;34m=\u001b[0m \u001b[0;32mTrue\u001b[0m\u001b[0;34m\u001b[0m\u001b[0;34m\u001b[0m\u001b[0m\n\u001b[0;32m---> 15\u001b[0;31m                     \u001b[0mretval_\u001b[0m \u001b[0;34m=\u001b[0m \u001b[0mag__\u001b[0m\u001b[0;34m.\u001b[0m\u001b[0mconverted_call\u001b[0m\u001b[0;34m(\u001b[0m\u001b[0mag__\u001b[0m\u001b[0;34m.\u001b[0m\u001b[0mld\u001b[0m\u001b[0;34m(\u001b[0m\u001b[0mstep_function\u001b[0m\u001b[0;34m)\u001b[0m\u001b[0;34m,\u001b[0m \u001b[0;34m(\u001b[0m\u001b[0mag__\u001b[0m\u001b[0;34m.\u001b[0m\u001b[0mld\u001b[0m\u001b[0;34m(\u001b[0m\u001b[0mself\u001b[0m\u001b[0;34m)\u001b[0m\u001b[0;34m,\u001b[0m \u001b[0mag__\u001b[0m\u001b[0;34m.\u001b[0m\u001b[0mld\u001b[0m\u001b[0;34m(\u001b[0m\u001b[0miterator\u001b[0m\u001b[0;34m)\u001b[0m\u001b[0;34m)\u001b[0m\u001b[0;34m,\u001b[0m \u001b[0;32mNone\u001b[0m\u001b[0;34m,\u001b[0m \u001b[0mfscope\u001b[0m\u001b[0;34m)\u001b[0m\u001b[0;34m\u001b[0m\u001b[0;34m\u001b[0m\u001b[0m\n\u001b[0m\u001b[1;32m     16\u001b[0m                 \u001b[0;32mexcept\u001b[0m\u001b[0;34m:\u001b[0m\u001b[0;34m\u001b[0m\u001b[0;34m\u001b[0m\u001b[0m\n\u001b[1;32m     17\u001b[0m                     \u001b[0mdo_return\u001b[0m \u001b[0;34m=\u001b[0m \u001b[0;32mFalse\u001b[0m\u001b[0;34m\u001b[0m\u001b[0;34m\u001b[0m\u001b[0m\n",
            "\u001b[0;31mValueError\u001b[0m: in user code:\n\n    File \"/usr/local/lib/python3.9/dist-packages/keras/engine/training.py\", line 1249, in train_function  *\n        return step_function(self, iterator)\n    File \"/usr/local/lib/python3.9/dist-packages/keras/engine/training.py\", line 1233, in step_function  **\n        outputs = model.distribute_strategy.run(run_step, args=(data,))\n    File \"/usr/local/lib/python3.9/dist-packages/keras/engine/training.py\", line 1222, in run_step  **\n        outputs = model.train_step(data)\n    File \"/usr/local/lib/python3.9/dist-packages/keras/engine/training.py\", line 1023, in train_step\n        y_pred = self(x, training=True)\n    File \"/usr/local/lib/python3.9/dist-packages/keras/utils/traceback_utils.py\", line 70, in error_handler\n        raise e.with_traceback(filtered_tb) from None\n\n    ValueError: Exception encountered when calling layer 'forward_lstm_20' (type LSTM).\n    \n    `rate` must be a scalar tensor or a float in the range [0, 1). Received: rate=1.0\n    \n    Call arguments received by layer 'forward_lstm_20' (type LSTM):\n      • inputs=tf.Tensor(shape=(None, 32, 64), dtype=float32)\n      • mask=None\n      • training=True\n      • initial_state=None\n"
          ]
        }
      ]
    }
  ]
}